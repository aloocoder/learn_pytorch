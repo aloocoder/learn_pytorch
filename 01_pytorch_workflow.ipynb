{
  "nbformat": 4,
  "nbformat_minor": 0,
  "metadata": {
    "colab": {
      "provenance": [],
      "authorship_tag": "ABX9TyNfuBvTGg1NTsWwirdIgbnI",
      "include_colab_link": true
    },
    "kernelspec": {
      "name": "python3",
      "display_name": "Python 3"
    },
    "language_info": {
      "name": "python"
    }
  },
  "cells": [
    {
      "cell_type": "markdown",
      "metadata": {
        "id": "view-in-github",
        "colab_type": "text"
      },
      "source": [
        "<a href=\"https://colab.research.google.com/github/aloocoder/learn_pytorch/blob/main/01_pytorch_workflow.ipynb\" target=\"_parent\"><img src=\"https://colab.research.google.com/assets/colab-badge.svg\" alt=\"Open In Colab\"/></a>"
      ]
    },
    {
      "cell_type": "markdown",
      "source": [
        "###seting up the notebook"
      ],
      "metadata": {
        "id": "gNV2g0-VOTc3"
      }
    },
    {
      "cell_type": "code",
      "execution_count": null,
      "metadata": {
        "colab": {
          "base_uri": "https://localhost:8080/",
          "height": 36
        },
        "id": "61Lucr1vI5yG",
        "outputId": "e97742f1-7d01-4a3c-9732-7b4d0426366d"
      },
      "outputs": [
        {
          "output_type": "execute_result",
          "data": {
            "text/plain": [
              "'2.3.1+cu121'"
            ],
            "application/vnd.google.colaboratory.intrinsic+json": {
              "type": "string"
            }
          },
          "metadata": {},
          "execution_count": 1
        }
      ],
      "source": [
        "import torch\n",
        "from torch import nn\n",
        "import matplotlib.pyplot as plt\n",
        "import numpy as np\n",
        "import pandas as pd\n",
        "\n",
        "#chekc for the pytorch version\n",
        "\n",
        "torch.__version__"
      ]
    },
    {
      "cell_type": "markdown",
      "source": [
        "### data (preparign and loading)"
      ],
      "metadata": {
        "id": "1ZKY-p25Jsu7"
      }
    },
    {
      "cell_type": "markdown",
      "source": [
        "##### we'll use a linear regression formula to make a striaght line with *known* **parameteres**"
      ],
      "metadata": {
        "id": "xzqk_SjsLP1R"
      }
    },
    {
      "cell_type": "code",
      "source": [
        "#known parameters\n",
        "weight = 0.9\n",
        "bias = 0.3\n",
        "\n",
        "#create data-points\n",
        "start = 0\n",
        "end = 1\n",
        "step = 0.02\n",
        "X = torch.arange(start,end,step).unsqueeze(dim = 1)\n",
        "y = X*weight + bias\n",
        "\n",
        "X[:10], y[:10]"
      ],
      "metadata": {
        "colab": {
          "base_uri": "https://localhost:8080/"
        },
        "id": "Qe2adc9tLPx0",
        "outputId": "d6df5ce4-8dc3-4bc1-ef3e-ecd3bd598a04"
      },
      "execution_count": null,
      "outputs": [
        {
          "output_type": "execute_result",
          "data": {
            "text/plain": [
              "(tensor([[0.0000],\n",
              "         [0.0200],\n",
              "         [0.0400],\n",
              "         [0.0600],\n",
              "         [0.0800],\n",
              "         [0.1000],\n",
              "         [0.1200],\n",
              "         [0.1400],\n",
              "         [0.1600],\n",
              "         [0.1800]]),\n",
              " tensor([[0.3000],\n",
              "         [0.3180],\n",
              "         [0.3360],\n",
              "         [0.3540],\n",
              "         [0.3720],\n",
              "         [0.3900],\n",
              "         [0.4080],\n",
              "         [0.4260],\n",
              "         [0.4440],\n",
              "         [0.4620]]))"
            ]
          },
          "metadata": {},
          "execution_count": 2
        }
      ]
    },
    {
      "cell_type": "code",
      "source": [
        "len(X), len(y)"
      ],
      "metadata": {
        "colab": {
          "base_uri": "https://localhost:8080/"
        },
        "id": "dVeXtUE4LPu7",
        "outputId": "6e61aac8-ea74-49bf-dcdb-a1fa6b6a8290"
      },
      "execution_count": null,
      "outputs": [
        {
          "output_type": "execute_result",
          "data": {
            "text/plain": [
              "(50, 50)"
            ]
          },
          "metadata": {},
          "execution_count": 3
        }
      ]
    },
    {
      "cell_type": "markdown",
      "source": [
        "####splitting the data into train and test set"
      ],
      "metadata": {
        "id": "_aWtBq1NLPsI"
      }
    },
    {
      "cell_type": "code",
      "source": [
        "train_split = int(len(X)*0.8)\n",
        "X_train, y_train = X[:train_split], y[:train_split]\n",
        "x_test, y_test = X[train_split:], y[train_split:]\n",
        "len(X_train), len(y_train), len(x_test), len(y_test)"
      ],
      "metadata": {
        "colab": {
          "base_uri": "https://localhost:8080/"
        },
        "id": "qjfWIoTELPp8",
        "outputId": "e3ea226e-c89d-466e-c7ee-0dd54898a861"
      },
      "execution_count": null,
      "outputs": [
        {
          "output_type": "execute_result",
          "data": {
            "text/plain": [
              "(40, 40, 10, 10)"
            ]
          },
          "metadata": {},
          "execution_count": 4
        }
      ]
    },
    {
      "cell_type": "markdown",
      "source": [
        "#### visualizing the data"
      ],
      "metadata": {
        "id": "ilpdnSViLPnH"
      }
    },
    {
      "cell_type": "code",
      "source": [
        "def plot_predictions(train_data = X_train,\n",
        "                     test_data = x_test,\n",
        "                     train_labels = y_train,\n",
        "                     test_labels = y_test,\n",
        "                     predictions = None):\n",
        "  plt.figure(figsize = (10,7))\n",
        "\n",
        "  #plot the train data\n",
        "  plt.scatter(train_data, train_labels, c = 'b', s = 4, label = 'training_data')\n",
        "\n",
        "  #plot the test data\n",
        "  plt.scatter(test_data, test_labels, c= 'g', s = 4, label = 'test_data')\n",
        "\n",
        "  if predictions is not None:\n",
        "    plt.scatter(test_data, predictions, c = 'r', s = 4, label = \"predictions\")\n",
        "\n",
        "  plt.legend(fontsize = 14)\n",
        "\n"
      ],
      "metadata": {
        "id": "ZqtY6lcFLPke"
      },
      "execution_count": null,
      "outputs": []
    },
    {
      "cell_type": "code",
      "source": [
        "plot_predictions()"
      ],
      "metadata": {
        "colab": {
          "base_uri": "https://localhost:8080/",
          "height": 599
        },
        "id": "UxDu2kxgLPhd",
        "outputId": "b9a86762-64ae-4e2b-b01f-8393af3d5eb2"
      },
      "execution_count": null,
      "outputs": [
        {
          "output_type": "display_data",
          "data": {
            "text/plain": [
              "<Figure size 1000x700 with 1 Axes>"
            ],
            "image/png": "[encoded data removed]"
          },
          "metadata": {}
        }
      ]
    },
    {
      "cell_type": "markdown",
      "source": [
        "##buildin the first pytorch model"
      ],
      "metadata": {
        "id": "saw0TObYLPez"
      }
    },
    {
      "cell_type": "code",
      "source": [
        "from torch import nn\n",
        "\n",
        "# Create a Linear Regression model class\n",
        "class LinearRegressionModel(nn.Module): # <- almost everything in PyTorch is a nn.Module (think of this as neural network lego blocks)\n",
        "    def __init__(self):\n",
        "        super().__init__()\n",
        "        self.weights = nn.Parameter(torch.randn(1, # <- start with random weights (this will get adjusted as the model learns)\n",
        "                                                dtype=torch.float), # <- PyTorch loves float32 by default\n",
        "                                   requires_grad=True) # <- can we update this value with gradient descent?)\n",
        "\n",
        "        self.bias = nn.Parameter(torch.randn(1, # <- start with random bias (this will get adjusted as the model learns)\n",
        "                                            dtype=torch.float), # <- PyTorch loves float32 by default\n",
        "                                requires_grad=True) # <- can we update this value with gradient descent?))\n",
        "\n",
        "  # Forward defines the computation in the model\n",
        "    def forward(self, x: torch.Tensor) -> torch.Tensor: # <- \"x\" is the input data (e.g. training/testing features)\n",
        "        return self.weights * x + self.bias # <- this is the linear regression formula (y = m*x + b)"
      ],
      "metadata": {
        "id": "VZlvzxPhLPcX"
      },
      "execution_count": null,
      "outputs": []
    },
    {
      "cell_type": "markdown",
      "source": [
        "####getting the contents in side the model\n",
        "\n",
        "this can be done using the .parameters method"
      ],
      "metadata": {
        "id": "obAtHgWHLPZr"
      }
    },
    {
      "cell_type": "code",
      "source": [
        "#create a random seed\n",
        "\n",
        "torch.manual_seed(42)\n",
        "\n",
        "#create an instance of the model\n",
        "model_0 = LinearRegressionModel()\n",
        "\n",
        "list(model_0.parameters())"
      ],
      "metadata": {
        "id": "qF97x0zYLPW_",
        "colab": {
          "base_uri": "https://localhost:8080/"
        },
        "outputId": "1e695ace-295a-4cf3-cb72-a5e8cc872e37"
      },
      "execution_count": null,
      "outputs": [
        {
          "output_type": "execute_result",
          "data": {
            "text/plain": [
              "[Parameter containing:\n",
              " tensor([0.3367], requires_grad=True),\n",
              " Parameter containing:\n",
              " tensor([0.1288], requires_grad=True)]"
            ]
          },
          "metadata": {},
          "execution_count": 8
        }
      ]
    },
    {
      "cell_type": "code",
      "source": [
        "#list named parameters\n",
        "\n",
        "model_0.state_dict()"
      ],
      "metadata": {
        "id": "vyKKbVzILPUP",
        "colab": {
          "base_uri": "https://localhost:8080/"
        },
        "outputId": "2e52cab3-b8f3-4042-d01b-f91c595aa102"
      },
      "execution_count": null,
      "outputs": [
        {
          "output_type": "execute_result",
          "data": {
            "text/plain": [
              "OrderedDict([('weights', tensor([0.3367])), ('bias', tensor([0.1288]))])"
            ]
          },
          "metadata": {},
          "execution_count": 9
        }
      ]
    },
    {
      "cell_type": "code",
      "source": [
        "with torch.inference_mode(): ##stops tracking the gradient as it is not required for makig predictions\n",
        "  y_pred  = model_0(x_test)\n",
        "\n",
        "##can also be done with\n",
        "\n",
        "# with torch.no_grad():\n",
        "#   y_pred = model_0(x_test)\n",
        "y_pred"
      ],
      "metadata": {
        "id": "651aK4DULPMW",
        "colab": {
          "base_uri": "https://localhost:8080/"
        },
        "outputId": "7a425253-265f-4af5-ad20-4fd8183a6b56"
      },
      "execution_count": null,
      "outputs": [
        {
          "output_type": "execute_result",
          "data": {
            "text/plain": [
              "tensor([[0.3982],\n",
              "        [0.4049],\n",
              "        [0.4116],\n",
              "        [0.4184],\n",
              "        [0.4251],\n",
              "        [0.4318],\n",
              "        [0.4386],\n",
              "        [0.4453],\n",
              "        [0.4520],\n",
              "        [0.4588]])"
            ]
          },
          "metadata": {},
          "execution_count": 10
        }
      ]
    },
    {
      "cell_type": "code",
      "source": [
        "plot_predictions(predictions = y_pred)"
      ],
      "metadata": {
        "id": "u9bMXu2CLPA7",
        "colab": {
          "base_uri": "https://localhost:8080/",
          "height": 599
        },
        "outputId": "0c8561ac-6cfe-43ba-e338-2b0508ee37f0"
      },
      "execution_count": null,
      "outputs": [
        {
          "output_type": "display_data",
          "data": {
            "text/plain": [
              "<Figure size 1000x700 with 1 Axes>"
            ],
            "image/png": "[encoded data removed]"
          },
          "metadata": {}
        }
      ]
    },
    {
      "cell_type": "markdown",
      "source": [
        "####training the model"
      ],
      "metadata": {
        "id": "VW9a1qRVLO3P"
      }
    },
    {
      "cell_type": "code",
      "source": [
        "model_0.state_dict()"
      ],
      "metadata": {
        "colab": {
          "base_uri": "https://localhost:8080/"
        },
        "id": "IBjOfjKVU2Q-",
        "outputId": "25f14043-a8ab-4c66-f3c3-4c03e50702fb"
      },
      "execution_count": null,
      "outputs": [
        {
          "output_type": "execute_result",
          "data": {
            "text/plain": [
              "OrderedDict([('weights', tensor([0.3367])), ('bias', tensor([0.1288]))])"
            ]
          },
          "metadata": {},
          "execution_count": 12
        }
      ]
    },
    {
      "cell_type": "code",
      "source": [
        "#set up a loss function\n",
        "loss_fn = nn.L1Loss() #mean absolute error\n",
        "\n",
        "#set up an optimizer\n",
        "optimizer = torch.optim.SGD(params = model_0.parameters(),\n",
        "                            lr = 0.01)"
      ],
      "metadata": {
        "id": "_MummQONU2OQ"
      },
      "execution_count": null,
      "outputs": []
    },
    {
      "cell_type": "markdown",
      "source": [
        "####building a training loop in pytorch"
      ],
      "metadata": {
        "id": "44S-bXaGU2Ll"
      }
    },
    {
      "cell_type": "code",
      "source": [
        "#set the epoch -> an epoch is one pass throught the data\n",
        "epochs = 100\n",
        "\n",
        "epoch_count = []\n",
        "loss_values = []\n",
        "test_loss_values = []\n",
        "\n",
        "#training\n",
        "for epoch in range(epochs):\n",
        "\n",
        "  #set the model on traning mode\n",
        "  model_0.train()\n",
        "\n",
        "  #do the forward pass\n",
        "  y_pred = model_0(X_train)\n",
        "\n",
        "  #calculte the loss\n",
        "  loss = loss_fn(y_pred, y_train)\n",
        "  #optimizer zero grad -> start fresh\n",
        "  optimizer.zero_grad()\n",
        "\n",
        "  #perform back propogation\n",
        "  loss.backward()\n",
        "\n",
        "  #perform gradient descent -> set up the optimizer\n",
        "  optimizer.step()\n",
        "\n",
        "  #testing code\n",
        "  model_0.eval()\n",
        "  with torch.inference_mode():\n",
        "    test_pred = model_0(x_test)\n",
        "\n",
        "    #calc loss\n",
        "    test_loss = loss_fn(test_pred, y_test)\n",
        "\n",
        "  if epoch % 10 ==0:\n",
        "    epoch_count.append(epoch)\n",
        "    loss_values.append(loss)\n",
        "    test_loss_values.append(test_loss)\n",
        "    print(f\"epoch: {epoch} | loss: {loss} | test_loss: {test_loss}\")"
      ],
      "metadata": {
        "colab": {
          "base_uri": "https://localhost:8080/"
        },
        "id": "Nz2882mfU2Iu",
        "outputId": "799daf35-7c04-4778-d016-e7113d2897b2"
      },
      "execution_count": null,
      "outputs": [
        {
          "output_type": "stream",
          "name": "stdout",
          "text": [
            "epoch: 0 | loss: 0.39088135957717896 | test_loss: 0.6590651273727417\n",
            "epoch: 10 | loss: 0.2756713330745697 | test_loss: 0.5243551731109619\n",
            "epoch: 20 | loss: 0.16460572183132172 | test_loss: 0.3926808834075928\n",
            "epoch: 30 | loss: 0.10852336883544922 | test_loss: 0.2989806532859802\n",
            "epoch: 40 | loss: 0.08743593096733093 | test_loss: 0.24060264229774475\n",
            "epoch: 50 | loss: 0.07890807092189789 | test_loss: 0.20496833324432373\n",
            "epoch: 60 | loss: 0.07424996793270111 | test_loss: 0.18382300436496735\n",
            "epoch: 70 | loss: 0.07052046060562134 | test_loss: 0.17009106278419495\n",
            "epoch: 80 | loss: 0.06703047454357147 | test_loss: 0.15907101333141327\n",
            "epoch: 90 | loss: 0.06354047358036041 | test_loss: 0.1480509340763092\n"
          ]
        }
      ]
    },
    {
      "cell_type": "code",
      "source": [
        "weight, bias"
      ],
      "metadata": {
        "colab": {
          "base_uri": "https://localhost:8080/"
        },
        "id": "zq6a3a0KU2GS",
        "outputId": "9557f7db-dbce-406a-8c28-2c770707ad37"
      },
      "execution_count": null,
      "outputs": [
        {
          "output_type": "execute_result",
          "data": {
            "text/plain": [
              "(0.9, 0.3)"
            ]
          },
          "metadata": {},
          "execution_count": 15
        }
      ]
    },
    {
      "cell_type": "code",
      "source": [
        "with torch.inference_mode():\n",
        "  y_pred_new = model_0(x_test)\n",
        "\n",
        "plot_predictions(predictions=y_pred_new)\n"
      ],
      "metadata": {
        "colab": {
          "base_uri": "https://localhost:8080/",
          "height": 599
        },
        "id": "tWMdTgB3U2DO",
        "outputId": "f88869ab-b18d-4eef-8a25-8abac11b6425"
      },
      "execution_count": null,
      "outputs": [
        {
          "output_type": "display_data",
          "data": {
            "text/plain": [
              "<Figure size 1000x700 with 1 Axes>"
            ],
            "image/png": "[encoded data removed]"
          },
          "metadata": {}
        }
      ]
    },
    {
      "cell_type": "code",
      "source": [
        "plt.plot(epoch_count, np.array(torch.tensor(loss_values).numpy()), label = \"train_loss\")\n",
        "plt.plot(epoch_count, test_loss_values, label = \"test_loss\")\n",
        "plt.title(\"training loss and test loss\")\n",
        "plt.ylabel(\"loss\")\n",
        "plt.xlabel(\"epochs\")\n",
        "plt.legend()"
      ],
      "metadata": {
        "id": "8QlmFLkPU2Au",
        "colab": {
          "base_uri": "https://localhost:8080/",
          "height": 490
        },
        "outputId": "3d282594-f1be-48a5-b873-16e2586af76d"
      },
      "execution_count": null,
      "outputs": [
        {
          "output_type": "execute_result",
          "data": {
            "text/plain": [
              "<matplotlib.legend.Legend at 0x7aaaff4a7520>"
            ]
          },
          "metadata": {},
          "execution_count": 17
        },
        {
          "output_type": "display_data",
          "data": {
            "text/plain": [
              "<Figure size 640x480 with 1 Axes>"
            ],
            "image/png": "[encoded data removed]"
          },
          "metadata": {}
        }
      ]
    },
    {
      "cell_type": "markdown",
      "source": [
        "###saving a model in pytorch\n",
        "\n",
        "1. `torch.save()` saved in pickle model\n",
        "2.  `torch.load()` load a saved pytorch object\n",
        "3. `torch.nn.module.state_dict()` load a models saved state dict"
      ],
      "metadata": {
        "id": "_7VsAz5pU19_"
      }
    },
    {
      "cell_type": "code",
      "source": [
        "#saving a pytorch model\n",
        "\n",
        "from pathlib import Path\n",
        "\n",
        "# create a model dictionary\n",
        "model_path = Path(\"models\")\n",
        "model_path.mkdir(parents = True, exist_ok=  True)\n",
        "\n",
        "#creta a model save path\n",
        "model_name = \"01_pytorch_workflow_model_1.pth\"\n",
        "model_save_path = model_path / model_name\n",
        "\n",
        "#save the model state_dict\n",
        "print(f\"saving the model to {model_save_path}\")\n",
        "torch.save(obj= model_0.state_dict(),\n",
        "           f = model_save_path)"
      ],
      "metadata": {
        "id": "nUYv64j3U17T",
        "colab": {
          "base_uri": "https://localhost:8080/"
        },
        "outputId": "d1a7e22c-afd2-48fc-c4bd-8bd074659164"
      },
      "execution_count": null,
      "outputs": [
        {
          "output_type": "stream",
          "name": "stdout",
          "text": [
            "saving the model to models/01_pytorch_workflow_model_1.pth\n"
          ]
        }
      ]
    },
    {
      "cell_type": "markdown",
      "source": [
        "###loading the savd model"
      ],
      "metadata": {
        "id": "5RAoakDM1Wn7"
      }
    },
    {
      "cell_type": "code",
      "source": [
        "##loading a saved state dict\n",
        "\n",
        "#create a new instance of the model\n",
        "load_model_0 = LinearRegressionModel()\n",
        "\n",
        "load_model_0.load_state_dict(torch.load(f = model_save_path))\n",
        "\n",
        "load_model_0.state_dict()"
      ],
      "metadata": {
        "id": "0wuvf2-fU14i",
        "colab": {
          "base_uri": "https://localhost:8080/"
        },
        "outputId": "b393c80d-3f79-44ec-b47f-630d79d2c634"
      },
      "execution_count": null,
      "outputs": [
        {
          "output_type": "execute_result",
          "data": {
            "text/plain": [
              "OrderedDict([('weights', tensor([0.6009])), ('bias', tensor([0.4253]))])"
            ]
          },
          "metadata": {},
          "execution_count": 19
        }
      ]
    },
    {
      "cell_type": "code",
      "source": [
        "y_preds = model_0(x_test)\n",
        "y_preds"
      ],
      "metadata": {
        "colab": {
          "base_uri": "https://localhost:8080/"
        },
        "id": "CIrO8YLH1EzY",
        "outputId": "39885aa5-a661-43af-9c3e-c089a9c8658d"
      },
      "execution_count": null,
      "outputs": [
        {
          "output_type": "execute_result",
          "data": {
            "text/plain": [
              "tensor([[0.9060],\n",
              "        [0.9181],\n",
              "        [0.9301],\n",
              "        [0.9421],\n",
              "        [0.9541],\n",
              "        [0.9661],\n",
              "        [0.9781],\n",
              "        [0.9902],\n",
              "        [1.0022],\n",
              "        [1.0142]], grad_fn=<AddBackward0>)"
            ]
          },
          "metadata": {},
          "execution_count": 20
        }
      ]
    },
    {
      "cell_type": "code",
      "source": [
        "##check if it is loaded correcylt\\\n",
        "\n",
        "load_model_0.eval()\n",
        "\n",
        "with torch.inference_mode():\n",
        "  load_preds = load_model_0(x_test)\n",
        "\n",
        "y_preds == load_preds"
      ],
      "metadata": {
        "colab": {
          "base_uri": "https://localhost:8080/"
        },
        "id": "4RZdLCkezthr",
        "outputId": "bbb9f3e4-ed22-4407-9a80-85ce0aa05b07"
      },
      "execution_count": null,
      "outputs": [
        {
          "output_type": "execute_result",
          "data": {
            "text/plain": [
              "tensor([[True],\n",
              "        [True],\n",
              "        [True],\n",
              "        [True],\n",
              "        [True],\n",
              "        [True],\n",
              "        [True],\n",
              "        [True],\n",
              "        [True],\n",
              "        [True]])"
            ]
          },
          "metadata": {},
          "execution_count": 21
        }
      ]
    },
    {
      "cell_type": "markdown",
      "source": [
        "##putting it all toegther"
      ],
      "metadata": {
        "id": "0bVp-GWo1ReH"
      }
    },
    {
      "cell_type": "markdown",
      "source": [
        "###setting up a  device agnostic code"
      ],
      "metadata": {
        "id": "Gbfyu4Wk1RbU"
      }
    },
    {
      "cell_type": "code",
      "source": [
        "#set up the code\n",
        "\n",
        "device = \"cuda\" if torch.cuda.is_available() else \"cpu\"\n",
        "print(f\"using device: {device}\")"
      ],
      "metadata": {
        "colab": {
          "base_uri": "https://localhost:8080/"
        },
        "id": "NPFOG_zV1RY5",
        "outputId": "6b9469d1-72a4-4f2a-912a-40da5d5889da"
      },
      "execution_count": null,
      "outputs": [
        {
          "output_type": "stream",
          "name": "stdout",
          "text": [
            "using device: cpu\n"
          ]
        }
      ]
    },
    {
      "cell_type": "markdown",
      "source": [
        "###create data"
      ],
      "metadata": {
        "id": "KUVFNqAj1RWX"
      }
    },
    {
      "cell_type": "code",
      "source": [
        "weight = 0.9\n",
        "bias  = 0.1\n",
        "\n",
        "#create a range of values\n",
        "start = 0\n",
        "end = 1\n",
        "step  = 0.02\n",
        "\n",
        "X = torch.arange(start,end,step).unsqueeze(dim = 1)\n",
        "Y = X*weight + bias\n",
        "\n",
        "X[:10], Y[:10]"
      ],
      "metadata": {
        "colab": {
          "base_uri": "https://localhost:8080/"
        },
        "id": "XSKom5Sl1RTf",
        "outputId": "fbf920c2-7589-431c-cd97-ee7559938f86"
      },
      "execution_count": null,
      "outputs": [
        {
          "output_type": "execute_result",
          "data": {
            "text/plain": [
              "(tensor([[0.0000],\n",
              "         [0.0200],\n",
              "         [0.0400],\n",
              "         [0.0600],\n",
              "         [0.0800],\n",
              "         [0.1000],\n",
              "         [0.1200],\n",
              "         [0.1400],\n",
              "         [0.1600],\n",
              "         [0.1800]]),\n",
              " tensor([[0.1000],\n",
              "         [0.1180],\n",
              "         [0.1360],\n",
              "         [0.1540],\n",
              "         [0.1720],\n",
              "         [0.1900],\n",
              "         [0.2080],\n",
              "         [0.2260],\n",
              "         [0.2440],\n",
              "         [0.2620]]))"
            ]
          },
          "metadata": {},
          "execution_count": 24
        }
      ]
    },
    {
      "cell_type": "code",
      "source": [
        "#split data\n",
        "\n",
        "train_split = int(len(X)*0.8)\n",
        "X_train, Y_train = X[:train_split], Y[:train_split]\n",
        "X_test, Y_test = X[train_split:], Y[train_split:]\n",
        "len(X_train), len(Y_train), len(X_test), len(Y_test)"
      ],
      "metadata": {
        "colab": {
          "base_uri": "https://localhost:8080/"
        },
        "id": "0r8x-xSs1RQ_",
        "outputId": "d3a5639e-1807-4303-eaa6-dca60a22139f"
      },
      "execution_count": null,
      "outputs": [
        {
          "output_type": "execute_result",
          "data": {
            "text/plain": [
              "(40, 40, 10, 10)"
            ]
          },
          "metadata": {},
          "execution_count": 25
        }
      ]
    },
    {
      "cell_type": "code",
      "source": [
        "#plot the data\n",
        "def plot_predictions(train_data, test_data, train_labels, test_labels,predictions = None):\n",
        "  plt.figure(figsize = (10,7))\n",
        "\n",
        "  #plot train data\n",
        "  plt.scatter(train_data, train_labels, c = \"b\", s = 4, label = \"train_data\")\n",
        "\n",
        "  #plot the test data\n",
        "  plt.scatter(test_data, test_labels, c = \"g\", s = 4, label = \"test_data\")\n",
        "\n",
        "  #plot the predictions\n",
        "  if predictions is not None:\n",
        "    plt.scatter(test_data, predictions, c = \"r\", s = 4, label = \"predictions\")\n"
      ],
      "metadata": {
        "id": "mZgNJbHZ1ROT"
      },
      "execution_count": null,
      "outputs": []
    },
    {
      "cell_type": "code",
      "source": [
        "plot_predictions(X_train, X_test, Y_train, Y_test)"
      ],
      "metadata": {
        "colab": {
          "base_uri": "https://localhost:8080/",
          "height": 599
        },
        "id": "xixRd7zH1RL1",
        "outputId": "c5c63df3-cf58-4b06-ee9b-01e2e4d93ad9"
      },
      "execution_count": null,
      "outputs": [
        {
          "output_type": "display_data",
          "data": {
            "text/plain": [
              "<Figure size 1000x700 with 1 Axes>"
            ],
            "image/png": "[encoded data removed]"
          },
          "metadata": {}
        }
      ]
    },
    {
      "cell_type": "code",
      "source": [
        "#buidin the pytorch linera model\n",
        "\n",
        "class LinearRegressionModelV2(nn.Module):\n",
        "    def __init__(self):\n",
        "        super().__init__()\n",
        "        # not required to self intialize thwe weights\n",
        "        # self.weights = nn.Parameter(torch.randn(1,\n",
        "        #                                         dtype = torch.float),\n",
        "        #                             requires_grad = True)\n",
        "\n",
        "        # self.bias = nn.Parameter(torch.randn(1,\n",
        "        #                                      dtype = torch.float),\n",
        "        #                                      requires_grad = True)\n",
        "\n",
        "        ##use the nn.Linear for creating the parametsr\n",
        "        self.Linear_layer = nn.Linear(in_features = 1,\n",
        "                                      out_features = 1)\n",
        "\n",
        "    def forward(self, x: torch.Tensor) -> torch.Tensor:\n",
        "            return self.Linear_layer(x)\n"
      ],
      "metadata": {
        "id": "kCBQLI191RJB"
      },
      "execution_count": null,
      "outputs": []
    },
    {
      "cell_type": "code",
      "source": [
        "torch.manual_seed(42)\n",
        "\n",
        "model_1 = LinearRegressionModelV2()\n",
        "\n",
        "list(model_1.parameters())"
      ],
      "metadata": {
        "colab": {
          "base_uri": "https://localhost:8080/"
        },
        "id": "FNh-UD8A1RGL",
        "outputId": "4b4552f8-61d3-4b8f-fb01-0dbd7133f738"
      },
      "execution_count": null,
      "outputs": [
        {
          "output_type": "execute_result",
          "data": {
            "text/plain": [
              "[Parameter containing:\n",
              " tensor([[0.7645]], requires_grad=True),\n",
              " Parameter containing:\n",
              " tensor([0.8300], requires_grad=True)]"
            ]
          },
          "metadata": {},
          "execution_count": 64
        }
      ]
    },
    {
      "cell_type": "code",
      "source": [
        "model_1.state_dict()"
      ],
      "metadata": {
        "colab": {
          "base_uri": "https://localhost:8080/"
        },
        "id": "5l6wqPg71RDf",
        "outputId": "5b5d0c51-1d50-4d99-ba3e-dc45f7ea056e"
      },
      "execution_count": null,
      "outputs": [
        {
          "output_type": "execute_result",
          "data": {
            "text/plain": [
              "OrderedDict([('Linear_layer.weight', tensor([[0.7645]])),\n",
              "             ('Linear_layer.bias', tensor([0.8300]))])"
            ]
          },
          "metadata": {},
          "execution_count": 78
        }
      ]
    },
    {
      "cell_type": "code",
      "source": [
        "#initial predictions\n",
        "\n",
        "with torch.inference_mode():\n",
        "  y_preds = model_1(X_test)\n",
        "\n",
        "\n",
        "plot_predictions(X_train, X_test, Y_train, Y_test, predictions = y_preds)"
      ],
      "metadata": {
        "colab": {
          "base_uri": "https://localhost:8080/",
          "height": 599
        },
        "id": "B-Frv7jJ1RA9",
        "outputId": "0881babe-1fb6-4fbd-8753-1ed6c7b632d7"
      },
      "execution_count": null,
      "outputs": [
        {
          "output_type": "display_data",
          "data": {
            "text/plain": [
              "<Figure size 1000x700 with 1 Axes>"
            ],
            "image/png": "[encoded data removed]"
          },
          "metadata": {}
        }
      ]
    },
    {
      "cell_type": "code",
      "source": [
        "#seetup loss function and optimizer\n",
        "\n",
        "loss_fn = nn.L1Loss()\n",
        "\n",
        "optimizer = torch.optim.SGD(params = model_1.parameters(), lr = 0.01)"
      ],
      "metadata": {
        "id": "exlZ5rL5hqh2"
      },
      "execution_count": null,
      "outputs": []
    },
    {
      "cell_type": "code",
      "source": [
        "#check the model device\n",
        "next(model_1.parameters()).device\n"
      ],
      "metadata": {
        "colab": {
          "base_uri": "https://localhost:8080/"
        },
        "id": "iOCtkKY9ubPq",
        "outputId": "81a15fc0-b17b-4221-eac0-71f3946cb3f1"
      },
      "execution_count": null,
      "outputs": [
        {
          "output_type": "execute_result",
          "data": {
            "text/plain": [
              "device(type='cpu')"
            ]
          },
          "metadata": {},
          "execution_count": 68
        }
      ]
    },
    {
      "cell_type": "code",
      "source": [
        "#set the model t0 the targeted device\n",
        "model_1.to(device)\n",
        "next(model_1.parameters()).device"
      ],
      "metadata": {
        "colab": {
          "base_uri": "https://localhost:8080/"
        },
        "id": "1ELKVR9qubNc",
        "outputId": "640b3a78-9af6-493a-bb0d-f0e6488ddab5"
      },
      "execution_count": null,
      "outputs": [
        {
          "output_type": "execute_result",
          "data": {
            "text/plain": [
              "device(type='cpu')"
            ]
          },
          "metadata": {},
          "execution_count": 69
        }
      ]
    },
    {
      "cell_type": "code",
      "source": [
        "## the training loop\n",
        "## the training loop\n",
        "\n",
        "epochs = 300\n",
        "\n",
        "\n",
        "#put data on the target device\n",
        "\n",
        "X_train, Y_train, X_test, Y_test = X_train.to(device), Y_train.to(device), X_test.to(device), Y_test.to(device)\n",
        "\n",
        "#set the epoch -> an epoch is one pass throught the data\n",
        "epoch_count = []\n",
        "loss_values = []\n",
        "test_loss_values = []\n",
        "\n",
        "for epoch in range(epochs):\n",
        "  # set the model on train\n",
        "  model_1.train()\n",
        "\n",
        "  #do the fowrward pass\n",
        "  y_pred = model_1(X_train)\n",
        "\n",
        "  #calc the loss\n",
        "  loss = loss_fn(y_pred, y_train)\n",
        "\n",
        "  #optimizer zero grad\n",
        "  optimizer.zero_grad()\n",
        "\n",
        "  #perform back_prop\n",
        "  loss.backward()\n",
        "\n",
        "  #gradient descent\n",
        "  optimizer.step()\n",
        "\n",
        "  ## testing\n",
        "  model_1.eval()\n",
        "  with torch.inference_mode():\n",
        "    test_pred = model_1(X_test)\n",
        "\n",
        "    test_loss = loss_fn(test_pred, Y_test)\n",
        "\n",
        "\n",
        "  if epoch%10 == 0:\n",
        "    print(f\"epoch : {epoch} | loss: {loss} | test-loss : {test_loss}\")\n"
      ],
      "metadata": {
        "colab": {
          "base_uri": "https://localhost:8080/"
        },
        "id": "8RQgGxe7ubK7",
        "outputId": "04a11c2a-f5ea-4c49-b1a0-8a5df7d62dfd"
      },
      "execution_count": null,
      "outputs": [
        {
          "output_type": "stream",
          "name": "stdout",
          "text": [
            "epoch : 0 | loss: 0.007839879021048546 | test-loss : 0.2006959468126297\n",
            "epoch : 10 | loss: 0.007839879021048546 | test-loss : 0.2006959468126297\n",
            "epoch : 20 | loss: 0.007839879021048546 | test-loss : 0.2006959468126297\n",
            "epoch : 30 | loss: 0.007839879021048546 | test-loss : 0.2006959468126297\n",
            "epoch : 40 | loss: 0.007839879021048546 | test-loss : 0.2006959468126297\n",
            "epoch : 50 | loss: 0.007839879021048546 | test-loss : 0.2006959468126297\n",
            "epoch : 60 | loss: 0.007839879021048546 | test-loss : 0.2006959468126297\n",
            "epoch : 70 | loss: 0.007839879021048546 | test-loss : 0.2006959468126297\n",
            "epoch : 80 | loss: 0.007839879021048546 | test-loss : 0.2006959468126297\n",
            "epoch : 90 | loss: 0.007839879021048546 | test-loss : 0.2006959468126297\n",
            "epoch : 100 | loss: 0.007839879021048546 | test-loss : 0.2006959468126297\n",
            "epoch : 110 | loss: 0.007839879021048546 | test-loss : 0.2006959468126297\n",
            "epoch : 120 | loss: 0.007839879021048546 | test-loss : 0.2006959468126297\n",
            "epoch : 130 | loss: 0.007839879021048546 | test-loss : 0.2006959468126297\n",
            "epoch : 140 | loss: 0.007839879021048546 | test-loss : 0.2006959468126297\n",
            "epoch : 150 | loss: 0.007839879021048546 | test-loss : 0.2006959468126297\n",
            "epoch : 160 | loss: 0.007839879021048546 | test-loss : 0.2006959468126297\n",
            "epoch : 170 | loss: 0.007839879021048546 | test-loss : 0.2006959468126297\n",
            "epoch : 180 | loss: 0.007839879021048546 | test-loss : 0.2006959468126297\n",
            "epoch : 190 | loss: 0.007839879021048546 | test-loss : 0.2006959468126297\n",
            "epoch : 200 | loss: 0.007839879021048546 | test-loss : 0.2006959468126297\n",
            "epoch : 210 | loss: 0.007839879021048546 | test-loss : 0.2006959468126297\n",
            "epoch : 220 | loss: 0.007839879021048546 | test-loss : 0.2006959468126297\n",
            "epoch : 230 | loss: 0.007839879021048546 | test-loss : 0.2006959468126297\n",
            "epoch : 240 | loss: 0.007839879021048546 | test-loss : 0.2006959468126297\n",
            "epoch : 250 | loss: 0.007839879021048546 | test-loss : 0.2006959468126297\n",
            "epoch : 260 | loss: 0.007839879021048546 | test-loss : 0.2006959468126297\n",
            "epoch : 270 | loss: 0.007839879021048546 | test-loss : 0.2006959468126297\n",
            "epoch : 280 | loss: 0.007839879021048546 | test-loss : 0.2006959468126297\n",
            "epoch : 290 | loss: 0.007839879021048546 | test-loss : 0.2006959468126297\n"
          ]
        }
      ]
    },
    {
      "cell_type": "code",
      "source": [
        "model_1.state_dict()"
      ],
      "metadata": {
        "colab": {
          "base_uri": "https://localhost:8080/"
        },
        "id": "2gh3TJ4DubIR",
        "outputId": "76339965-b915-4cde-b86f-9663661d4554"
      },
      "execution_count": null,
      "outputs": [
        {
          "output_type": "execute_result",
          "data": {
            "text/plain": [
              "OrderedDict([('Linear_layer.weight', tensor([[0.8901]])),\n",
              "             ('Linear_layer.bias', tensor([0.2960]))])"
            ]
          },
          "metadata": {},
          "execution_count": 84
        }
      ]
    },
    {
      "cell_type": "code",
      "source": [
        "model_1.eval()\n",
        "\n",
        "with torch.inference_mode():\n",
        "  test_pred = model_1(X_test)\n",
        "\n",
        "test_pred"
      ],
      "metadata": {
        "colab": {
          "base_uri": "https://localhost:8080/"
        },
        "id": "rOQIw_Kc_jvA",
        "outputId": "b3065c54-6766-4ec8-ca8c-3361c9b51a28"
      },
      "execution_count": null,
      "outputs": [
        {
          "output_type": "execute_result",
          "data": {
            "text/plain": [
              "tensor([[1.0081],\n",
              "        [1.0259],\n",
              "        [1.0437],\n",
              "        [1.0615],\n",
              "        [1.0793],\n",
              "        [1.0971],\n",
              "        [1.1149],\n",
              "        [1.1327],\n",
              "        [1.1505],\n",
              "        [1.1683]])"
            ]
          },
          "metadata": {},
          "execution_count": 88
        }
      ]
    },
    {
      "cell_type": "code",
      "source": [
        "plot_predictions(X_train, X_test, Y_train, Y_test, test_pred)"
      ],
      "metadata": {
        "colab": {
          "base_uri": "https://localhost:8080/",
          "height": 599
        },
        "id": "EV5Rwi2Yuafr",
        "outputId": "413e1605-d390-4407-8d31-86b7e238bd9f"
      },
      "execution_count": null,
      "outputs": [
        {
          "output_type": "display_data",
          "data": {
            "text/plain": [
              "<Figure size 1000x700 with 1 Axes>"
            ],
            "image/png": "[encoded data removed]"
          },
          "metadata": {}
        }
      ]
    },
    {
      "cell_type": "code",
      "source": [
        "##saving and loading the model\n",
        "from pathlib import Path\n",
        "\n",
        "#create model directory\n",
        "model_path = Path(\"models_1\")\n",
        "model_path.mkdir(parents = True, exist_ok = True)\n",
        "\n",
        "#model save path\n",
        "model_name = \"01_pytorch_workflow_model_1.pth\"\n",
        "model_save_path = model_path/ model_name\n",
        "\n",
        "#save the model\n",
        "print(f\"saving the model to {model_save_path}\")\n",
        "torch.save(obj = model_1.state_dict(), f = model_save_path)\n"
      ],
      "metadata": {
        "colab": {
          "base_uri": "https://localhost:8080/"
        },
        "id": "rJsih7fCuaco",
        "outputId": "9d93ed2c-bcc2-45f0-ea6a-133472dc4479"
      },
      "execution_count": null,
      "outputs": [
        {
          "output_type": "stream",
          "name": "stdout",
          "text": [
            "saving the model to models_1/01_pytorch_workflow_model_1.pth\n"
          ]
        }
      ]
    },
    {
      "cell_type": "code",
      "source": [
        "model_1.state_dict()"
      ],
      "metadata": {
        "colab": {
          "base_uri": "https://localhost:8080/"
        },
        "id": "FiHlz-MOuaaQ",
        "outputId": "22554377-ff2d-4e8d-f1e0-d7667060895a"
      },
      "execution_count": null,
      "outputs": [
        {
          "output_type": "execute_result",
          "data": {
            "text/plain": [
              "OrderedDict([('Linear_layer.weight', tensor([[0.8901]])),\n",
              "             ('Linear_layer.bias', tensor([0.2960]))])"
            ]
          },
          "metadata": {},
          "execution_count": 96
        }
      ]
    },
    {
      "cell_type": "code",
      "source": [
        "#load the saved model\n",
        "\n",
        "loaded_model_1 = LinearRegressionModelV2()\n",
        "\n",
        "loaded_model_1.load_state_dict(torch.load(f = model_save_path))\n",
        "\n",
        "loaded_model_1.state_dict()"
      ],
      "metadata": {
        "colab": {
          "base_uri": "https://localhost:8080/"
        },
        "id": "cZNrnBPUuaYR",
        "outputId": "7ec835c3-5ebb-41e6-a088-94448f73caae"
      },
      "execution_count": null,
      "outputs": [
        {
          "output_type": "execute_result",
          "data": {
            "text/plain": [
              "OrderedDict([('Linear_layer.weight', tensor([[0.8901]])),\n",
              "             ('Linear_layer.bias', tensor([0.2960]))])"
            ]
          },
          "metadata": {},
          "execution_count": 97
        }
      ]
    },
    {
      "cell_type": "code",
      "source": [],
      "metadata": {
        "id": "wgq2oM-buaWJ"
      },
      "execution_count": null,
      "outputs": []
    },
    {
      "cell_type": "code",
      "source": [],
      "metadata": {
        "id": "FVd5Px5uuaS-"
      },
      "execution_count": null,
      "outputs": []
    },
    {
      "cell_type": "code",
      "source": [],
      "metadata": {
        "id": "gVaNbt0eFOBg"
      },
      "execution_count": null,
      "outputs": []
    },
    {
      "cell_type": "code",
      "source": [],
      "metadata": {
        "id": "qc3COhWgFN-3"
      },
      "execution_count": null,
      "outputs": []
    },
    {
      "cell_type": "code",
      "source": [],
      "metadata": {
        "id": "qaM_SLZrFN8V"
      },
      "execution_count": null,
      "outputs": []
    },
    {
      "cell_type": "code",
      "source": [],
      "metadata": {
        "id": "6SXX7mRmFN5j"
      },
      "execution_count": null,
      "outputs": []
    }
  ]
}